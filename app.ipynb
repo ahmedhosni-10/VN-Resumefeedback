{
  "nbformat": 4,
  "nbformat_minor": 0,
  "metadata": {
    "colab": {
      "provenance": []
    },
    "kernelspec": {
      "name": "python3",
      "display_name": "Python 3"
    },
    "language_info": {
      "name": "python"
    }
  },
  "cells": [
    {
      "cell_type": "code",
      "execution_count": null,
      "metadata": {
        "colab": {
          "base_uri": "https://localhost:8080/"
        },
        "id": "2ydUjvxjpNVX",
        "outputId": "a15c5e4f-1a56-4ae1-d923-1869876c462f"
      },
      "outputs": [
        {
          "output_type": "stream",
          "name": "stdout",
          "text": [
            "Collecting Flask-Cors\n",
            "  Downloading flask_cors-5.0.1-py3-none-any.whl.metadata (961 bytes)\n",
            "Requirement already satisfied: flask>=0.9 in /usr/local/lib/python3.11/dist-packages (from Flask-Cors) (3.1.0)\n",
            "Requirement already satisfied: Werkzeug>=0.7 in /usr/local/lib/python3.11/dist-packages (from Flask-Cors) (3.1.3)\n",
            "Requirement already satisfied: Jinja2>=3.1.2 in /usr/local/lib/python3.11/dist-packages (from flask>=0.9->Flask-Cors) (3.1.6)\n",
            "Requirement already satisfied: itsdangerous>=2.2 in /usr/local/lib/python3.11/dist-packages (from flask>=0.9->Flask-Cors) (2.2.0)\n",
            "Requirement already satisfied: click>=8.1.3 in /usr/local/lib/python3.11/dist-packages (from flask>=0.9->Flask-Cors) (8.1.8)\n",
            "Requirement already satisfied: blinker>=1.9 in /usr/local/lib/python3.11/dist-packages (from flask>=0.9->Flask-Cors) (1.9.0)\n",
            "Requirement already satisfied: MarkupSafe>=2.1.1 in /usr/local/lib/python3.11/dist-packages (from Werkzeug>=0.7->Flask-Cors) (3.0.2)\n",
            "Downloading flask_cors-5.0.1-py3-none-any.whl (11 kB)\n",
            "Installing collected packages: Flask-Cors\n",
            "Successfully installed Flask-Cors-5.0.1\n",
            "Collecting pdfplumber\n",
            "  Downloading pdfplumber-0.11.6-py3-none-any.whl.metadata (42 kB)\n",
            "\u001b[2K     \u001b[90m━━━━━━━━━━━━━━━━━━━━━━━━━━━━━━━━━━━━━━━━\u001b[0m \u001b[32m42.8/42.8 kB\u001b[0m \u001b[31m1.7 MB/s\u001b[0m eta \u001b[36m0:00:00\u001b[0m\n",
            "\u001b[?25hCollecting pdfminer.six==20250327 (from pdfplumber)\n",
            "  Downloading pdfminer_six-20250327-py3-none-any.whl.metadata (4.1 kB)\n",
            "Requirement already satisfied: Pillow>=9.1 in /usr/local/lib/python3.11/dist-packages (from pdfplumber) (11.2.1)\n",
            "Collecting pypdfium2>=4.18.0 (from pdfplumber)\n",
            "  Downloading pypdfium2-4.30.1-py3-none-manylinux_2_17_x86_64.manylinux2014_x86_64.whl.metadata (48 kB)\n",
            "\u001b[2K     \u001b[90m━━━━━━━━━━━━━━━━━━━━━━━━━━━━━━━━━━━━━━━━\u001b[0m \u001b[32m48.2/48.2 kB\u001b[0m \u001b[31m2.0 MB/s\u001b[0m eta \u001b[36m0:00:00\u001b[0m\n",
            "\u001b[?25hRequirement already satisfied: charset-normalizer>=2.0.0 in /usr/local/lib/python3.11/dist-packages (from pdfminer.six==20250327->pdfplumber) (3.4.1)\n",
            "Requirement already satisfied: cryptography>=36.0.0 in /usr/local/lib/python3.11/dist-packages (from pdfminer.six==20250327->pdfplumber) (43.0.3)\n",
            "Requirement already satisfied: cffi>=1.12 in /usr/local/lib/python3.11/dist-packages (from cryptography>=36.0.0->pdfminer.six==20250327->pdfplumber) (1.17.1)\n",
            "Requirement already satisfied: pycparser in /usr/local/lib/python3.11/dist-packages (from cffi>=1.12->cryptography>=36.0.0->pdfminer.six==20250327->pdfplumber) (2.22)\n",
            "Downloading pdfplumber-0.11.6-py3-none-any.whl (60 kB)\n",
            "\u001b[2K   \u001b[90m━━━━━━━━━━━━━━━━━━━━━━━━━━━━━━━━━━━━━━━━\u001b[0m \u001b[32m60.2/60.2 kB\u001b[0m \u001b[31m2.9 MB/s\u001b[0m eta \u001b[36m0:00:00\u001b[0m\n",
            "\u001b[?25hDownloading pdfminer_six-20250327-py3-none-any.whl (5.6 MB)\n",
            "\u001b[2K   \u001b[90m━━━━━━━━━━━━━━━━━━━━━━━━━━━━━━━━━━━━━━━━\u001b[0m \u001b[32m5.6/5.6 MB\u001b[0m \u001b[31m41.8 MB/s\u001b[0m eta \u001b[36m0:00:00\u001b[0m\n",
            "\u001b[?25hDownloading pypdfium2-4.30.1-py3-none-manylinux_2_17_x86_64.manylinux2014_x86_64.whl (2.9 MB)\n",
            "\u001b[2K   \u001b[90m━━━━━━━━━━━━━━━━━━━━━━━━━━━━━━━━━━━━━━━━\u001b[0m \u001b[32m2.9/2.9 MB\u001b[0m \u001b[31m44.9 MB/s\u001b[0m eta \u001b[36m0:00:00\u001b[0m\n",
            "\u001b[?25hInstalling collected packages: pypdfium2, pdfminer.six, pdfplumber\n",
            "Successfully installed pdfminer.six-20250327 pdfplumber-0.11.6 pypdfium2-4.30.1\n",
            "Collecting python-dotenv\n",
            "  Downloading python_dotenv-1.1.0-py3-none-any.whl.metadata (24 kB)\n",
            "Downloading python_dotenv-1.1.0-py3-none-any.whl (20 kB)\n",
            "Installing collected packages: python-dotenv\n",
            "Successfully installed python-dotenv-1.1.0\n"
          ]
        }
      ],
      "source": [
        "from flask import Flask, request, jsonify\n",
        "!pip install Flask-Cors\n",
        "!pip install pdfplumber\n",
        "!pip install python-dotenv\n",
        "from flask_cors import CORS\n",
        "import os\n",
        "from openai import OpenAI\n",
        "from dotenv import load_dotenv\n",
        "import tempfile\n",
        "import textwrap"
      ]
    },
    {
      "cell_type": "code",
      "source": [
        "load_dotenv()\n",
        "\n",
        "\n",
        "app = Flask(__name__)\n",
        "CORS(app)\n",
        "\n",
        "# Configure OpenAI client\n",
        "client = OpenAI(\n",
        "    base_url=os.getenv(\"OPENAI_ENDPOINT\", \"https://models.inference.ai.azure.com\"),\n",
        "    api_key=os.getenv(\"OPENAI_API_KEY\")\n",
        ")\n",
        "\n",
        "def extract_text_from_pdf(file_path):\n",
        "    text = \"\"\n",
        "    with pdfplumber.open(file_path) as pdf:\n",
        "        for page in pdf.pages:\n",
        "            content = page.extract_text()\n",
        "            if content:\n",
        "                text += content + \"\\n\"\n",
        "    return text"
      ],
      "metadata": {
        "id": "Mm4_t7X0qhAg"
      },
      "execution_count": null,
      "outputs": []
    },
    {
      "cell_type": "code",
      "source": [
        "def parse_feedback(feedback_text):\n",
        "    sections = [\"Overall Rating\", \"Summary\", \"Strengths\", \"Weaknesses\",\n",
        "                \"ATS compatibility analysis\", \"Formating and readability\",\n",
        "                \"Content and impact\", \"Grammer and clarity\"]\n",
        "    parsed = {}\n",
        "    current_section = None\n",
        "\n",
        "    for line in feedback_text.splitlines():\n",
        "        stripped = line.strip()\n",
        "        lower_line = stripped.lower()\n",
        "\n",
        "        # Check for section headers\n",
        "        for section in sections:\n",
        "            if lower_line.startswith(section.lower()):\n",
        "                current_section = section\n",
        "                parsed[current_section] = \"\"\n",
        "                continue\n",
        "\n",
        "        # Add content to current section\n",
        "        if current_section and stripped:\n",
        "            if parsed[current_section]:\n",
        "                parsed[current_section] += \"\\n\" + stripped\n",
        "            else:\n",
        "                parsed[current_section] = stripped\n",
        "\n",
        "    return parsed"
      ],
      "metadata": {
        "id": "ihcGNqDdzb0i"
      },
      "execution_count": null,
      "outputs": []
    },
    {
      "cell_type": "code",
      "source": [
        "def get_resume_feedback(resume_text):\n",
        "    prompt = f\"\"\"\n",
        "You are a professional career advisor. Analyze the following resume and provide the following structured feedback:\n",
        "\n",
        "1. **Overall Rating (out of 100)** — Evaluate the overall quality of the resume.\n",
        "2. **Summary** — A short paragraph in 1 line summarizing the impression of the resume.\n",
        "3. **Strengths** — What is working well in this resume? (3-5 bullet points)\n",
        "4. **Weaknesses** — What is not working well in this resume? (3-5 bullet points)\n",
        "5. **ATS compatibility analysis** — give an ATS match score for this resume, issue and fix? (each one in one line)\n",
        "6. **Formating and readability** — what is the issue of formating and fix? (each one in one line)\n",
        "7. **Content and impact** — what is the issue of content and fix? (each one in one line)\n",
        "8. **Grammer and clarity** - what is issue of grammer and fix? (each one in one line)\n",
        "Resume:\n",
        "{resume_text}\n",
        "\"\"\"\n",
        "\n",
        "    response = client.chat.completions.create(\n",
        "        messages=[\n",
        "            {\"role\": \"system\", \"content\": \"You are a helpful and professional career advisor.\"},\n",
        "            {\"role\": \"user\", \"content\": prompt}\n",
        "        ],\n",
        "        temperature=0.7,\n",
        "        top_p=1.0,\n",
        "        max_tokens=1000,\n",
        "        model=os.getenv(\"OPENAI_MODEL\", \"gpt-4o-mini\")\n",
        "    )\n",
        "\n",
        "    return parse_feedback(response.choices[0].message.content)"
      ],
      "metadata": {
        "id": "eRRlrUvLzoIT"
      },
      "execution_count": null,
      "outputs": []
    },
    {
      "cell_type": "code",
      "source": [
        "@app.route('/analyze', methods=['POST'])\n",
        "def analyze_resume():\n",
        "    if 'file' not in request.files:\n",
        "        return jsonify({\"error\": \"No file uploaded\"}), 400\n",
        "\n",
        "    file = request.files['file']\n",
        "    if file.filename == '':\n",
        "        return jsonify({\"error\": \"No selected file\"}), 400\n",
        "\n",
        "    if not file.filename.lower().endswith('.pdf'):\n",
        "        return jsonify({\"error\": \"Only PDF files are supported\"}), 400\n",
        "\n",
        "    try:\n",
        "        # Save uploaded file to temporary file\n",
        "        with tempfile.NamedTemporaryFile(delete=False, suffix=\".pdf\") as temp_file:\n",
        "            file.save(temp_file.name)\n",
        "            resume_text = extract_text_from_pdf(temp_file.name)\n",
        "\n",
        "        feedback = get_resume_feedback(resume_text)\n",
        "        return jsonify(feedback)\n",
        "\n",
        "    except Exception as e:\n",
        "        return jsonify({\"error\": str(e)}), 500\n",
        "\n",
        "if __name__ == '__main__':\n",
        "    app.run(host='0.0.0.0', port=int(os.environ.get('PORT', 5000)))"
      ],
      "metadata": {
        "colab": {
          "base_uri": "https://localhost:8080/"
        },
        "id": "vnBpnevR0CFk",
        "outputId": "d9d0d868-970c-4507-9e47-ff85dfefacd4"
      },
      "execution_count": null,
      "outputs": [
        {
          "output_type": "stream",
          "name": "stdout",
          "text": [
            " * Serving Flask app '__main__'\n",
            " * Debug mode: on\n"
          ]
        },
        {
          "output_type": "stream",
          "name": "stderr",
          "text": [
            "INFO:werkzeug:\u001b[31m\u001b[1mWARNING: This is a development server. Do not use it in a production deployment. Use a production WSGI server instead.\u001b[0m\n",
            " * Running on http://127.0.0.1:5000\n",
            "INFO:werkzeug:\u001b[33mPress CTRL+C to quit\u001b[0m\n",
            "INFO:werkzeug: * Restarting with stat\n"
          ]
        }
      ]
    }
  ]
}